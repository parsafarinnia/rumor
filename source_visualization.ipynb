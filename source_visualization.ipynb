{
 "cells": [
  {
   "cell_type": "code",
   "execution_count": 50,
   "metadata": {
    "scrolled": false
   },
   "outputs": [
    {
     "data": {
      "text/html": [
       "<div>\n",
       "<style scoped>\n",
       "    .dataframe tbody tr th:only-of-type {\n",
       "        vertical-align: middle;\n",
       "    }\n",
       "\n",
       "    .dataframe tbody tr th {\n",
       "        vertical-align: top;\n",
       "    }\n",
       "\n",
       "    .dataframe thead th {\n",
       "        text-align: right;\n",
       "    }\n",
       "</style>\n",
       "<table border=\"1\" class=\"dataframe\">\n",
       "  <thead>\n",
       "    <tr style=\"text-align: right;\">\n",
       "      <th></th>\n",
       "      <th>classification</th>\n",
       "      <th>text</th>\n",
       "      <th>favorite_count</th>\n",
       "      <th>retweet_count</th>\n",
       "      <th>verified</th>\n",
       "      <th>followers</th>\n",
       "    </tr>\n",
       "  </thead>\n",
       "  <tbody>\n",
       "    <tr>\n",
       "      <th>500288349924782080</th>\n",
       "      <td>unverified</td>\n",
       "      <td>Did anyone think of comparing the clothes that...</td>\n",
       "      <td>141</td>\n",
       "      <td>331</td>\n",
       "      <td>False</td>\n",
       "      <td>18662</td>\n",
       "    </tr>\n",
       "    <tr>\n",
       "      <th>500308076004929537</th>\n",
       "      <td>unverified</td>\n",
       "      <td>Possible \"robbery\" took place and BAM! Like ma...</td>\n",
       "      <td>60</td>\n",
       "      <td>129</td>\n",
       "      <td>False</td>\n",
       "      <td>29932</td>\n",
       "    </tr>\n",
       "    <tr>\n",
       "      <th>544282227035869184</th>\n",
       "      <td>true</td>\n",
       "      <td>BREAKING NEWS: Gunmen take hostages at Sydney ...</td>\n",
       "      <td>57</td>\n",
       "      <td>197</td>\n",
       "      <td>False</td>\n",
       "      <td>202022</td>\n",
       "    </tr>\n",
       "    <tr>\n",
       "      <th>529695367680761856</th>\n",
       "      <td>false</td>\n",
       "      <td>OMG. #Prince rumoured to be performing in Toro...</td>\n",
       "      <td>9</td>\n",
       "      <td>12</td>\n",
       "      <td>True</td>\n",
       "      <td>32054</td>\n",
       "    </tr>\n",
       "    <tr>\n",
       "      <th>544324444773433348</th>\n",
       "      <td>true</td>\n",
       "      <td>Uber says it has hiked prices in Sydney to \"en...</td>\n",
       "      <td>33</td>\n",
       "      <td>154</td>\n",
       "      <td>True</td>\n",
       "      <td>4814829</td>\n",
       "    </tr>\n",
       "    <tr>\n",
       "      <th>...</th>\n",
       "      <td>...</td>\n",
       "      <td>...</td>\n",
       "      <td>...</td>\n",
       "      <td>...</td>\n",
       "      <td>...</td>\n",
       "      <td>...</td>\n",
       "    </tr>\n",
       "    <tr>\n",
       "      <th>580319078155468800</th>\n",
       "      <td>true</td>\n",
       "      <td>Germanwings Airbus A320 crashes in French Alps...</td>\n",
       "      <td>684</td>\n",
       "      <td>4388</td>\n",
       "      <td>True</td>\n",
       "      <td>14134290</td>\n",
       "    </tr>\n",
       "    <tr>\n",
       "      <th>580339547269144576</th>\n",
       "      <td>false</td>\n",
       "      <td>Latest on #Germanwings crash: Pilots signaled ...</td>\n",
       "      <td>33</td>\n",
       "      <td>95</td>\n",
       "      <td>True</td>\n",
       "      <td>5122787</td>\n",
       "    </tr>\n",
       "    <tr>\n",
       "      <th>581386094337474560</th>\n",
       "      <td>unverified</td>\n",
       "      <td>RT @khjelmgaard: German media reporting #Andre...</td>\n",
       "      <td>10</td>\n",
       "      <td>33</td>\n",
       "      <td>True</td>\n",
       "      <td>1539329</td>\n",
       "    </tr>\n",
       "    <tr>\n",
       "      <th>581063377226637312</th>\n",
       "      <td>true</td>\n",
       "      <td>#4U9525: Robin names Andreas Lubitz as the cop...</td>\n",
       "      <td>3</td>\n",
       "      <td>31</td>\n",
       "      <td>False</td>\n",
       "      <td>7419</td>\n",
       "    </tr>\n",
       "    <tr>\n",
       "      <th>580323060533764097</th>\n",
       "      <td>true</td>\n",
       "      <td>Germanwings passenger plane crashes in France:...</td>\n",
       "      <td>10</td>\n",
       "      <td>26</td>\n",
       "      <td>True</td>\n",
       "      <td>2742831</td>\n",
       "    </tr>\n",
       "  </tbody>\n",
       "</table>\n",
       "<p>297 rows × 6 columns</p>\n",
       "</div>"
      ],
      "text/plain": [
       "                   classification  \\\n",
       "500288349924782080     unverified   \n",
       "500308076004929537     unverified   \n",
       "544282227035869184           true   \n",
       "529695367680761856          false   \n",
       "544324444773433348           true   \n",
       "...                           ...   \n",
       "580319078155468800           true   \n",
       "580339547269144576          false   \n",
       "581386094337474560     unverified   \n",
       "581063377226637312           true   \n",
       "580323060533764097           true   \n",
       "\n",
       "                                                                 text  \\\n",
       "500288349924782080  Did anyone think of comparing the clothes that...   \n",
       "500308076004929537  Possible \"robbery\" took place and BAM! Like ma...   \n",
       "544282227035869184  BREAKING NEWS: Gunmen take hostages at Sydney ...   \n",
       "529695367680761856  OMG. #Prince rumoured to be performing in Toro...   \n",
       "544324444773433348  Uber says it has hiked prices in Sydney to \"en...   \n",
       "...                                                               ...   \n",
       "580319078155468800  Germanwings Airbus A320 crashes in French Alps...   \n",
       "580339547269144576  Latest on #Germanwings crash: Pilots signaled ...   \n",
       "581386094337474560  RT @khjelmgaard: German media reporting #Andre...   \n",
       "581063377226637312  #4U9525: Robin names Andreas Lubitz as the cop...   \n",
       "580323060533764097  Germanwings passenger plane crashes in France:...   \n",
       "\n",
       "                    favorite_count  retweet_count  verified  followers  \n",
       "500288349924782080             141            331     False      18662  \n",
       "500308076004929537              60            129     False      29932  \n",
       "544282227035869184              57            197     False     202022  \n",
       "529695367680761856               9             12      True      32054  \n",
       "544324444773433348              33            154      True    4814829  \n",
       "...                            ...            ...       ...        ...  \n",
       "580319078155468800             684           4388      True   14134290  \n",
       "580339547269144576              33             95      True    5122787  \n",
       "581386094337474560              10             33      True    1539329  \n",
       "581063377226637312               3             31     False       7419  \n",
       "580323060533764097              10             26      True    2742831  \n",
       "\n",
       "[297 rows x 6 columns]"
      ]
     },
     "execution_count": 50,
     "metadata": {},
     "output_type": "execute_result"
    }
   ],
   "source": [
    "import os\n",
    "import csv\n",
    "import json\n",
    "import pickle\n",
    "import pandas as pd\n",
    "with open(\"/Users/macbook/Desktop/reasearch/rumor/rumor/sourcedf_id_feature_class.json\") as s:\n",
    "    data=json.load(s)\n",
    "    dfs=pd.DataFrame(data)\n",
    "    \n",
    "dfs"
   ]
  },
  {
   "cell_type": "code",
   "execution_count": 51,
   "metadata": {
    "scrolled": true
   },
   "outputs": [
    {
     "data": {
      "text/html": [
       "<div>\n",
       "<style scoped>\n",
       "    .dataframe tbody tr th:only-of-type {\n",
       "        vertical-align: middle;\n",
       "    }\n",
       "\n",
       "    .dataframe tbody tr th {\n",
       "        vertical-align: top;\n",
       "    }\n",
       "\n",
       "    .dataframe thead th {\n",
       "        text-align: right;\n",
       "    }\n",
       "</style>\n",
       "<table border=\"1\" class=\"dataframe\">\n",
       "  <thead>\n",
       "    <tr style=\"text-align: right;\">\n",
       "      <th></th>\n",
       "      <th>classification</th>\n",
       "      <th>text</th>\n",
       "      <th>favorite_count</th>\n",
       "      <th>retweet_count</th>\n",
       "      <th>verified</th>\n",
       "      <th>followers</th>\n",
       "    </tr>\n",
       "  </thead>\n",
       "  <tbody>\n",
       "    <tr>\n",
       "      <th>501760642928635904</th>\n",
       "      <td>comment</td>\n",
       "      <td>@max843 @DanteB4u @Alasscan_  This shows Micha...</td>\n",
       "      <td>1</td>\n",
       "      <td>4</td>\n",
       "      <td>False</td>\n",
       "      <td>1472</td>\n",
       "    </tr>\n",
       "    <tr>\n",
       "      <th>500270212198174720</th>\n",
       "      <td>comment</td>\n",
       "      <td>@USATODAY Get ready to tweet the address #Spik...</td>\n",
       "      <td>0</td>\n",
       "      <td>0</td>\n",
       "      <td>False</td>\n",
       "      <td>23</td>\n",
       "    </tr>\n",
       "    <tr>\n",
       "      <th>524971210275565568</th>\n",
       "      <td>comment</td>\n",
       "      <td>@rikermacdaniels @CBCAlerts @CBCNews @JustinTr...</td>\n",
       "      <td>0</td>\n",
       "      <td>0</td>\n",
       "      <td>False</td>\n",
       "      <td>98</td>\n",
       "    </tr>\n",
       "    <tr>\n",
       "      <th>552836882770690049</th>\n",
       "      <td>comment</td>\n",
       "      <td>@RT_com  Just kill them.</td>\n",
       "      <td>0</td>\n",
       "      <td>0</td>\n",
       "      <td>False</td>\n",
       "      <td>9</td>\n",
       "    </tr>\n",
       "    <tr>\n",
       "      <th>500289931097296897</th>\n",
       "      <td>support</td>\n",
       "      <td>@TheAnonMessage2 no, because that would requir...</td>\n",
       "      <td>0</td>\n",
       "      <td>0</td>\n",
       "      <td>False</td>\n",
       "      <td>385</td>\n",
       "    </tr>\n",
       "    <tr>\n",
       "      <th>...</th>\n",
       "      <td>...</td>\n",
       "      <td>...</td>\n",
       "      <td>...</td>\n",
       "      <td>...</td>\n",
       "      <td>...</td>\n",
       "      <td>...</td>\n",
       "    </tr>\n",
       "    <tr>\n",
       "      <th>580397833548861442</th>\n",
       "      <td>comment</td>\n",
       "      <td>@BBCBreaking our hearts in nigeria goes to the...</td>\n",
       "      <td>0</td>\n",
       "      <td>0</td>\n",
       "      <td>False</td>\n",
       "      <td>9</td>\n",
       "    </tr>\n",
       "    <tr>\n",
       "      <th>581338469496041472</th>\n",
       "      <td>comment</td>\n",
       "      <td>@daxtonbrown Dont u have anything better to do...</td>\n",
       "      <td>0</td>\n",
       "      <td>0</td>\n",
       "      <td>False</td>\n",
       "      <td>404</td>\n",
       "    </tr>\n",
       "    <tr>\n",
       "      <th>580321806285975552</th>\n",
       "      <td>comment</td>\n",
       "      <td>@rConflictNews @AlArabiya_Eng Prayers going up...</td>\n",
       "      <td>1</td>\n",
       "      <td>1</td>\n",
       "      <td>False</td>\n",
       "      <td>176</td>\n",
       "    </tr>\n",
       "    <tr>\n",
       "      <th>580342470472400897</th>\n",
       "      <td>support</td>\n",
       "      <td>@foxandfriends please don't spend all day on t...</td>\n",
       "      <td>2</td>\n",
       "      <td>1</td>\n",
       "      <td>False</td>\n",
       "      <td>47</td>\n",
       "    </tr>\n",
       "    <tr>\n",
       "      <th>581573267829342208</th>\n",
       "      <td>comment</td>\n",
       "      <td>@USATODAY @khjelmgaard \\n #A320 #PilotsNoFlyNo...</td>\n",
       "      <td>0</td>\n",
       "      <td>0</td>\n",
       "      <td>False</td>\n",
       "      <td>350</td>\n",
       "    </tr>\n",
       "  </tbody>\n",
       "</table>\n",
       "<p>4519 rows × 6 columns</p>\n",
       "</div>"
      ],
      "text/plain": [
       "                   classification  \\\n",
       "501760642928635904        comment   \n",
       "500270212198174720        comment   \n",
       "524971210275565568        comment   \n",
       "552836882770690049        comment   \n",
       "500289931097296897        support   \n",
       "...                           ...   \n",
       "580397833548861442        comment   \n",
       "581338469496041472        comment   \n",
       "580321806285975552        comment   \n",
       "580342470472400897        support   \n",
       "581573267829342208        comment   \n",
       "\n",
       "                                                                 text  \\\n",
       "501760642928635904  @max843 @DanteB4u @Alasscan_  This shows Micha...   \n",
       "500270212198174720  @USATODAY Get ready to tweet the address #Spik...   \n",
       "524971210275565568  @rikermacdaniels @CBCAlerts @CBCNews @JustinTr...   \n",
       "552836882770690049                           @RT_com  Just kill them.   \n",
       "500289931097296897  @TheAnonMessage2 no, because that would requir...   \n",
       "...                                                               ...   \n",
       "580397833548861442  @BBCBreaking our hearts in nigeria goes to the...   \n",
       "581338469496041472  @daxtonbrown Dont u have anything better to do...   \n",
       "580321806285975552  @rConflictNews @AlArabiya_Eng Prayers going up...   \n",
       "580342470472400897  @foxandfriends please don't spend all day on t...   \n",
       "581573267829342208  @USATODAY @khjelmgaard \\n #A320 #PilotsNoFlyNo...   \n",
       "\n",
       "                    favorite_count  retweet_count  verified  followers  \n",
       "501760642928635904               1              4     False       1472  \n",
       "500270212198174720               0              0     False         23  \n",
       "524971210275565568               0              0     False         98  \n",
       "552836882770690049               0              0     False          9  \n",
       "500289931097296897               0              0     False        385  \n",
       "...                            ...            ...       ...        ...  \n",
       "580397833548861442               0              0     False          9  \n",
       "581338469496041472               0              0     False        404  \n",
       "580321806285975552               1              1     False        176  \n",
       "580342470472400897               2              1     False         47  \n",
       "581573267829342208               0              0     False        350  \n",
       "\n",
       "[4519 rows x 6 columns]"
      ]
     },
     "execution_count": 51,
     "metadata": {},
     "output_type": "execute_result"
    }
   ],
   "source": [
    "with open(\"/Users/macbook/Desktop/reasearch/rumor/rumor/repliesdf_id_feature_class.json\") as r:\n",
    "    data=json.load(r)\n",
    "    dfr=pd.DataFrame(data)\n",
    "    \n",
    "dfr\n"
   ]
  },
  {
   "cell_type": "code",
   "execution_count": 15,
   "metadata": {},
   "outputs": [],
   "source": [
    "import matplotlib.pyplot as plt"
   ]
  },
  {
   "cell_type": "code",
   "execution_count": 52,
   "metadata": {
    "scrolled": false
   },
   "outputs": [
    {
     "data": {
      "text/plain": [
       "<matplotlib.axes._subplots.AxesSubplot at 0x123c05d30>"
      ]
     },
     "execution_count": 52,
     "metadata": {},
     "output_type": "execute_result"
    },
    {
     "data": {
      "image/png": "[encoded data removed]",
      "text/plain": [
       "<Figure size 432x288 with 1 Axes>"
      ]
     },
     "metadata": {
      "needs_background": "light"
     },
     "output_type": "display_data"
    }
   ],
   "source": [
    "dfs['favorite_count'].hist(bins=10)"
   ]
  },
  {
   "cell_type": "code",
   "execution_count": 53,
   "metadata": {},
   "outputs": [
    {
     "data": {
      "text/plain": [
       "<matplotlib.axes._subplots.AxesSubplot at 0x123de8438>"
      ]
     },
     "execution_count": 53,
     "metadata": {},
     "output_type": "execute_result"
    },
    {
     "data": {
      "image/png": "[encoded data removed]",
      "text/plain": [
       "<Figure size 432x288 with 1 Axes>"
      ]
     },
     "metadata": {
      "needs_background": "light"
     },
     "output_type": "display_data"
    }
   ],
   "source": [
    "dfr['favorite_count'].hist(bins=10)"
   ]
  },
  {
   "cell_type": "code",
   "execution_count": 54,
   "metadata": {
    "scrolled": true
   },
   "outputs": [
    {
     "data": {
      "text/plain": [
       "<matplotlib.axes._subplots.AxesSubplot at 0x123e19da0>"
      ]
     },
     "execution_count": 54,
     "metadata": {},
     "output_type": "execute_result"
    },
    {
     "data": {
      "image/png": "[encoded data removed]",
      "text/plain": [
       "<Figure size 432x288 with 1 Axes>"
      ]
     },
     "metadata": {
      "needs_background": "light"
     },
     "output_type": "display_data"
    }
   ],
   "source": [
    "dfs[\"classification\"].value_counts().plot.bar()"
   ]
  },
  {
   "cell_type": "code",
   "execution_count": 55,
   "metadata": {},
   "outputs": [
    {
     "data": {
      "text/plain": [
       "<matplotlib.axes._subplots.AxesSubplot at 0x123588e10>"
      ]
     },
     "execution_count": 55,
     "metadata": {},
     "output_type": "execute_result"
    },
    {
     "data": {
      "image/png": "[encoded data removed]",
      "text/plain": [
       "<Figure size 432x288 with 1 Axes>"
      ]
     },
     "metadata": {
      "needs_background": "light"
     },
     "output_type": "display_data"
    }
   ],
   "source": [
    "dfr[\"classification\"].value_counts().plot.bar()"
   ]
  },
  {
   "cell_type": "code",
   "execution_count": null,
   "metadata": {},
   "outputs": [],
   "source": []
  }
 ],
 "metadata": {
  "kernelspec": {
   "display_name": "Python 3",
   "language": "python",
   "name": "python3"
  },
  "language_info": {
   "codemirror_mode": {
    "name": "ipython",
    "version": 3
   },
   "file_extension": ".py",
   "mimetype": "text/x-python",
   "name": "python",
   "nbconvert_exporter": "python",
   "pygments_lexer": "ipython3",
   "version": "3.6.6"
  }
 },
 "nbformat": 4,
 "nbformat_minor": 4
}
